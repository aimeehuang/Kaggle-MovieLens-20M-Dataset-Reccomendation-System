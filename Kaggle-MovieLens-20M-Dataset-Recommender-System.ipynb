{
 "cells": [
  {
   "cell_type": "code",
   "execution_count": 386,
   "metadata": {},
   "outputs": [],
   "source": [
    "import pandas as pd\n",
    "import matplotlib.pyplot as plt\n",
    "from sklearn.utils import shuffle\n",
    "import numpy as np\n",
    "import time"
   ]
  },
  {
   "cell_type": "markdown",
   "metadata": {},
   "source": [
    "# Data Source"
   ]
  },
  {
   "cell_type": "markdown",
   "metadata": {},
   "source": [
    "https://www.kaggle.com/grouplens/movielens-20m-dataset"
   ]
  },
  {
   "cell_type": "markdown",
   "metadata": {},
   "source": [
    "# Load Data"
   ]
  },
  {
   "cell_type": "code",
   "execution_count": 367,
   "metadata": {},
   "outputs": [
    {
     "name": "stdout",
     "output_type": "stream",
     "text": [
      "<bound method NDFrame.head of           userId  movieId  rating\n",
      "0              1        2     3.5\n",
      "1              1       29     3.5\n",
      "2              1       32     3.5\n",
      "3              1       47     3.5\n",
      "4              1       50     3.5\n",
      "...          ...      ...     ...\n",
      "20000258  138493    68954     4.5\n",
      "20000259  138493    69526     4.5\n",
      "20000260  138493    69644     3.0\n",
      "20000261  138493    70286     5.0\n",
      "20000262  138493    71619     2.5\n",
      "\n",
      "[20000263 rows x 3 columns]>\n"
     ]
    }
   ],
   "source": [
    "#read first 3 columns\n",
    "data = pd.read_csv(\"rating.csv\", header = 0, usecols = [0,1,2])\n",
    "print(data.head)"
   ]
  },
  {
   "cell_type": "markdown",
   "metadata": {},
   "source": [
    "# Get subset of data"
   ]
  },
  {
   "cell_type": "code",
   "execution_count": 381,
   "metadata": {
    "scrolled": true
   },
   "outputs": [
    {
     "name": "stdout",
     "output_type": "stream",
     "text": [
      "<bound method NDFrame.head of        movieId  ratings\n",
      "293        296    67310\n",
      "352        356    66172\n",
      "315        318    63366\n",
      "587        593    63299\n",
      "476        480    59715\n",
      "...        ...      ...\n",
      "23146   110807        1\n",
      "23148   110811        1\n",
      "15481    78984        1\n",
      "23150   110818        1\n",
      "26743   131262        1\n",
      "\n",
      "[26744 rows x 2 columns]>\n",
      "293        296\n",
      "352        356\n",
      "315        318\n",
      "587        593\n",
      "476        480\n",
      "         ...  \n",
      "1537      1589\n",
      "1029      1049\n",
      "898        915\n",
      "10449    38061\n",
      "379        383\n",
      "Name: movieId, Length: 1000, dtype: int64\n",
      "<bound method NDFrame.head of         userId  ratings\n",
      "118204  118205     9254\n",
      "8404      8405     7515\n",
      "82417    82418     5646\n",
      "121534  121535     5520\n",
      "125793  125794     5491\n",
      "...        ...      ...\n",
      "89304    89305       20\n",
      "110462  110463       20\n",
      "96989    96990       20\n",
      "134746  134747       20\n",
      "6525      6526       20\n",
      "\n",
      "[138493 rows x 2 columns]>\n",
      "118204    118205\n",
      "8404        8405\n",
      "82417      82418\n",
      "121534    121535\n",
      "125793    125794\n",
      "           ...  \n",
      "78056      78057\n",
      "127699    127700\n",
      "67608      67609\n",
      "73197      73198\n",
      "138199    138200\n",
      "Name: userId, Length: 5000, dtype: int64\n",
      "          userId  movieId  rating\n",
      "5400          54        1     4.0\n",
      "5401          54        2     3.0\n",
      "5402          54        5     3.0\n",
      "5403          54        6     3.0\n",
      "5404          54       10     4.0\n",
      "...          ...      ...     ...\n",
      "19993363  138437    74458     3.5\n",
      "19993369  138437    78499     4.0\n",
      "19993372  138437    79132     4.5\n",
      "19993375  138437    80463     4.0\n",
      "19993378  138437    81591     4.0\n",
      "\n",
      "[2353634 rows x 3 columns]\n"
     ]
    }
   ],
   "source": [
    "# use subset of data : the most rated movie and users who rate the most\n",
    "\n",
    "M = 1000  #select M movies rated most\n",
    "N = 5000 #select N users rate most\n",
    "\n",
    "#calculate ratings of each movie\n",
    "\n",
    "sort_movie_ratings = data.groupby(\"movieId\").agg(ratings = ('rating', 'count')).reset_index().sort_values(\"ratings\", ascending= False)\n",
    "print(sort_movie_ratings.head)\n",
    "top_rated_movies = sort_movie_ratings[\"movieId\"][:M]\n",
    "print(top_rated_movies)\n",
    "\n",
    "\n",
    "#calculate ratings of each users\n",
    "\n",
    "sort_user_ratings = data.groupby(\"userId\").agg(ratings = ('rating', 'count')).reset_index().sort_values(\"ratings\", ascending= False)\n",
    "print(sort_user_ratings.head)\n",
    "top_rated_users = sort_user_ratings[\"userId\"][:N]\n",
    "print(top_rated_users)\n",
    "\n",
    "\n",
    "# select subset of data\n",
    "\n",
    "subset_data = data[data['movieId'].isin(top_rated_movies) & data['userId'].isin(top_rated_users)]\n",
    "print(subset_data)\n",
    "\n",
    "subset_data.to_csv('subset_ratings.csv')\n"
   ]
  },
  {
   "cell_type": "markdown",
   "metadata": {},
   "source": [
    "# Re-index data "
   ]
  },
  {
   "cell_type": "code",
   "execution_count": 382,
   "metadata": {
    "scrolled": true
   },
   "outputs": [
    {
     "name": "stderr",
     "output_type": "stream",
     "text": [
      "/Library/Frameworks/Python.framework/Versions/3.7/lib/python3.7/site-packages/numpy/lib/arraysetops.py:568: FutureWarning: elementwise comparison failed; returning scalar instead, but in the future will perform elementwise comparison\n",
      "  mask |= (ar1 == a)\n"
     ]
    },
    {
     "name": "stdout",
     "output_type": "stream",
     "text": [
      "read subset data:\n",
      "<bound method NDFrame.head of           userId  movieId  rating\n",
      "5400          54        1     4.0\n",
      "5401          54        2     3.0\n",
      "5402          54        5     3.0\n",
      "5403          54        6     3.0\n",
      "5404          54       10     4.0\n",
      "...          ...      ...     ...\n",
      "19993363  138437    74458     3.5\n",
      "19993369  138437    78499     4.0\n",
      "19993372  138437    79132     4.5\n",
      "19993375  138437    80463     4.0\n",
      "19993378  138437    81591     4.0\n",
      "\n",
      "[2353634 rows x 3 columns]>\n",
      "read subset reindex data:\n",
      "<bound method NDFrame.head of           userId  movieId  rating  new_user_idx  new_movie_idx\n",
      "5400          54        1     4.0             5              0\n",
      "5401          54        2     3.0             5              1\n",
      "5402          54        5     3.0             5              3\n",
      "5403          54        6     3.0             5              4\n",
      "5404          54       10     4.0             5              8\n",
      "...          ...      ...     ...           ...            ...\n",
      "19993363  138437    74458     3.5          1355            431\n",
      "19993369  138437    78499     4.0          1355            412\n",
      "19993372  138437    79132     4.5          1355            738\n",
      "19993375  138437    80463     4.0          1355            360\n",
      "19993378  138437    81591     4.0          1355            884\n",
      "\n",
      "[2353634 rows x 5 columns]>\n"
     ]
    }
   ],
   "source": [
    "#re-index userId and movieId \n",
    "\n",
    "subset_data = pd.read_csv('subset_ratings.csv',header = 0, index_col=0)\n",
    "print(\"read subset data:\")\n",
    "print(subset_data.head)\n",
    "\n",
    "#re-index userId\n",
    "unique_user = set(subset_data['userId'])\n",
    "user_index = {}\n",
    "count = 0\n",
    "for id in unique_user:\n",
    "    user_index[id] = count\n",
    "    count+=1\n",
    "    \n",
    "subset_data['new_user_idx'] = subset_data.apply(lambda row : user_index[row.userId], axis = 1)\n",
    "\n",
    "\n",
    "#re-index userId\n",
    "unique_movie = set(subset_data['movieId'])\n",
    "movie_index = {}\n",
    "count = 0\n",
    "for id in unique_movie:\n",
    "    movie_index[id] = count\n",
    "    count+=1\n",
    "    \n",
    "subset_data['new_movie_idx'] = subset_data.apply(lambda row : movie_index[row.movieId], axis = 1)\n",
    "\n",
    "print(\"read subset reindex data:\")\n",
    "print(subset_data.head)\n",
    "\n",
    "subset_data.to_csv('subset_reindex_ratings.csv')\n"
   ]
  },
  {
   "cell_type": "markdown",
   "metadata": {},
   "source": [
    "# Split data to training and testing data"
   ]
  },
  {
   "cell_type": "code",
   "execution_count": 383,
   "metadata": {},
   "outputs": [
    {
     "name": "stderr",
     "output_type": "stream",
     "text": [
      "/Library/Frameworks/Python.framework/Versions/3.7/lib/python3.7/site-packages/numpy/lib/arraysetops.py:568: FutureWarning: elementwise comparison failed; returning scalar instead, but in the future will perform elementwise comparison\n",
      "  mask |= (ar1 == a)\n"
     ]
    },
    {
     "name": "stdout",
     "output_type": "stream",
     "text": [
      "subset reindex data:\n",
      "<bound method NDFrame.head of           userId  movieId  rating  new_user_idx  new_movie_idx\n",
      "5400          54        1     4.0             5              0\n",
      "5401          54        2     3.0             5              1\n",
      "5402          54        5     3.0             5              3\n",
      "5403          54        6     3.0             5              4\n",
      "5404          54       10     4.0             5              8\n",
      "...          ...      ...     ...           ...            ...\n",
      "19993363  138437    74458     3.5          1355            431\n",
      "19993369  138437    78499     4.0          1355            412\n",
      "19993372  138437    79132     4.5          1355            738\n",
      "19993375  138437    80463     4.0          1355            360\n",
      "19993378  138437    81591     4.0          1355            884\n",
      "\n",
      "[2353634 rows x 5 columns]>\n",
      "train data :\n",
      "<bound method NDFrame.head of          userId  movieId  rating  new_user_idx  new_movie_idx\n",
      "0        116361     8949     4.0          2935            447\n",
      "1         17851      260     4.0          2907            169\n",
      "2         84480      724     3.5          3055            427\n",
      "3        123817     3683     4.0          3986            850\n",
      "4         66243     6539     4.0           123            266\n",
      "...         ...      ...     ...           ...            ...\n",
      "1882902   67709     1088     3.0           420            598\n",
      "1882903   68558      838     3.0           572            486\n",
      "1882904   72150      595     3.5          1209            369\n",
      "1882905   93146      231     3.5          4287            149\n",
      "1882906  110588    60684     4.0          2101            731\n",
      "\n",
      "[1882907 rows x 5 columns]>\n",
      "test data :\n",
      "<bound method NDFrame.head of         userId  movieId  rating  new_user_idx  new_movie_idx\n",
      "0        73187      372     3.0          1388            251\n",
      "1        70243     2605     2.0           881            347\n",
      "2        38160      288     3.5          1005            190\n",
      "3        19310     3868     2.5          3112            909\n",
      "4        85554     8641     0.5          3203            288\n",
      "...        ...      ...     ...           ...            ...\n",
      "470722   52520     1206     5.0          3170            652\n",
      "470723     348     2078     4.5            57             24\n",
      "470724   57874      924     4.0          3929            530\n",
      "470725   94789     8528     1.5          4514            219\n",
      "470726   92321     2001     3.5          4159            980\n",
      "\n",
      "[470727 rows x 5 columns]>\n"
     ]
    }
   ],
   "source": [
    "subset_reindex_data = pd.read_csv('subset_reindex_ratings.csv',header = 0, index_col=0)\n",
    "print(\"subset reindex data:\")\n",
    "print(subset_reindex_data.head)\n",
    "\n",
    "#shuffle data\n",
    "subset_reindex_data = shuffle(subset_reindex_data)\n",
    "\n",
    "#split to 0.8 training and 0.2 testing\n",
    "\n",
    "split = int(0.8*len(subset_reindex_data))\n",
    "train = subset_reindex_data[:split].reset_index(drop=True)\n",
    "test = subset_reindex_data[split:].reset_index(drop=True)\n",
    "\n",
    "print(\"train data :\")\n",
    "print(train.head)\n",
    "\n",
    "print(\"test data :\")\n",
    "print(test.head)"
   ]
  },
  {
   "cell_type": "markdown",
   "metadata": {},
   "source": [
    "# Create dictionaries for lookup"
   ]
  },
  {
   "cell_type": "code",
   "execution_count": 384,
   "metadata": {},
   "outputs": [],
   "source": [
    "#create dic for users who rated a movie\n",
    "movie_user_dic = {}\n",
    "user_movie_dic = {}\n",
    "user_movie_rating_dic = {}\n",
    "\n",
    "#training data\n",
    "train_length = len(train)\n",
    "for i in range(train_length):  \n",
    "    user = train.loc[i,'new_user_idx']\n",
    "    movie = train.loc[i,'new_movie_idx']\n",
    "    rating = train.loc[i,'rating']\n",
    "    \n",
    "    \n",
    "    #movie user lookup\n",
    "    if movie in movie_user_dic:\n",
    "        movie_user_dic[movie].append(user) \n",
    "    else:\n",
    "        movie_user_dic[movie] = [user]\n",
    "        \n",
    "    #user movie lookup\n",
    "    if user in user_movie_dic:\n",
    "        user_movie_dic[user].append(movie) \n",
    "    else:\n",
    "        user_movie_dic[user] = [movie]\n",
    "        \n",
    "    #user movie rating lookup\n",
    "    user_movie_rating_dic[(user,movie)] = rating\n",
    "    \n",
    "#testing data\n",
    "test_user_movie_rating_dic={}\n",
    "test_length = len(test)\n",
    "\n",
    "for i in range(test_length):  \n",
    "    user = test.loc[i,'new_user_idx']\n",
    "    movie = test.loc[i,'new_movie_idx']\n",
    "    rating = test.loc[i,'rating']\n",
    "        \n",
    "    #user movie rating lookup\n",
    "    test_user_movie_rating_dic[(user,movie)] = rating\n",
    "    \n",
    "          \n",
    "\n",
    "# save json file to disk\n",
    "with open('movie_user_dic.pickle', 'wb') as file:\n",
    "    pickle.dump(movie_user_dic, file) \n",
    "    \n",
    "with open('user_movie_dic.pickle', 'wb') as file:\n",
    "    pickle.dump(user_movie_dic, file) \n",
    "\n",
    "with open('user_movie_rating_dic.pickle', 'wb') as file:\n",
    "    pickle.dump(user_movie_rating_dic, file) \n",
    "    \n",
    "with open('test_user_movie_rating_dic.pickle', 'wb') as file:\n",
    "    pickle.dump(test_user_movie_rating_dic, file) \n"
   ]
  },
  {
   "cell_type": "markdown",
   "metadata": {},
   "source": [
    "# Calculate pearson coefficient between users"
   ]
  },
  {
   "cell_type": "code",
   "execution_count": 388,
   "metadata": {},
   "outputs": [],
   "source": [
    "# read file from disk\n",
    "with open('movie_user_dic.pickle', 'rb') as file:\n",
    "    movie_user_dic = pickle.load(file) \n",
    "    \n",
    "with open('user_movie_dic.pickle', 'rb') as file:\n",
    "    user_movie_dic = pickle.load(file) \n",
    "\n",
    "with open('user_movie_rating_dic.pickle', 'rb') as file:\n",
    "    user_movie_rating_dic = pickle.load(file) \n",
    "    \n",
    "with open('test_user_movie_rating_dic.pickle', 'rb') as file:\n",
    "    test_user_movie_rating_dic = pickle.load(file) \n",
    "\n",
    "#calculate similarity\n",
    "\n",
    "\n",
    "def user_similarity(useri, userj, common_movies, dev_i, dev_j):\n",
    "    \n",
    "    i_common_devs = []\n",
    "    j_common_devs = []\n",
    "    \n",
    "    #create rating arrays for both users\n",
    "    for movie in common_movies:\n",
    "        i_common_devs.append(dev_i[movie])\n",
    "        j_common_devs.append(dev_j[movie])     \n",
    "    #to np.array    \n",
    "    i_devs_arr = np.array(i_common_devs)\n",
    "    j_devs_arr = np.array(j_common_devs)\n",
    "    \n",
    "    \n",
    "    #calculate pearson correlation coefficient\n",
    "    numerator = np.dot(i_devs_arr , j_devs_arr)\n",
    "    denominator1 = np.sqrt(np.dot(i_devs_arr, i_devs_arr))\n",
    "    denominator2 = np.sqrt(np.dot(j_devs_arr, j_devs_arr))\n",
    "    \n",
    "    return round(numerator/(denominator1*denominator2),5)\n",
    "    "
   ]
  },
  {
   "cell_type": "code",
   "execution_count": 389,
   "metadata": {
    "scrolled": true
   },
   "outputs": [
    {
     "name": "stdout",
     "output_type": "stream",
     "text": [
      "i: 0\n",
      "i: 200\n",
      "i: 400\n",
      "i: 600\n",
      "i: 800\n",
      "i: 1000\n",
      "i: 1200\n",
      "i: 1400\n",
      "i: 1600\n",
      "i: 1800\n",
      "i: 2000\n",
      "i: 2200\n",
      "i: 2400\n",
      "i: 2600\n",
      "i: 2800\n",
      "i: 3000\n",
      "i: 3200\n",
      "i: 3400\n",
      "i: 3600\n",
      "i: 3800\n",
      "i: 4000\n",
      "i: 4200\n",
      "i: 4400\n",
      "i: 4600\n",
      "i: 4800\n",
      "112827.89938187599\n"
     ]
    }
   ],
   "source": [
    "averages = []\n",
    "deviations = []\n",
    "most_similar_neighbors = []\n",
    "common_movie_threshold = 10\n",
    "limit_neighbors = 25\n",
    "N = np.max(list(user_movie_dic.keys())) + 1\n",
    "\n",
    "start = time.time()\n",
    "\n",
    "for i in range(N):\n",
    "    if i % 200 ==0:\n",
    "        print(\"i:\",i)\n",
    "    movies_i = user_movie_dic[i] \n",
    "    ratings_i = {movie:user_movie_rating_dic[(i, movie)] for movie in movies_i }\n",
    "    avg_i = np.mean(list(ratings_i.values()))\n",
    "    dev_i = {movie:(rating - avg_i) for movie, rating in ratings_i.items()}\n",
    "    \n",
    "    # save these for later use\n",
    "    averages.append(avg_i)\n",
    "    deviations.append(dev_i)\n",
    "    \n",
    "    i_all_neighbor = {}\n",
    "    for j in range(N):\n",
    "        if j != i:\n",
    "            movies_j = user_movie_dic[j]\n",
    "            common_movie = (set(movies_i) & set(movies_j))\n",
    "            if len(common_movie) > common_movie_threshold:\n",
    "                ratings_j = { movie:user_movie_rating_dic[(j, movie)] for movie in movies_j }\n",
    "                avg_j = np.mean(list(ratings_j.values()))\n",
    "                dev_j = { movie:(rating - avg_j) for movie, rating in ratings_j.items() }\n",
    "                         \n",
    "                similarity = user_similarity(i, j, common_movie, dev_i, dev_j)\n",
    "                i_all_neighbor[j] = similarity\n",
    "    # sort similarity            \n",
    "    sorted_similairty = sorted(i_all_neighbor.items(), key=lambda kv: kv[1],reverse=True)\n",
    "    if len(sorted_similairty ) > limit_neighbors:  \n",
    "        most_similar_neighbors.append(sorted_similairty [:limit_neighbors])\n",
    "        #print(\"sorted_similarity\", sorted_similairty[:limit_neighbors])\n",
    "    else:\n",
    "        most_similar_neighbors.append(sorted_similairty)\n",
    "        #print(\"sorted_similarity\", sorted_similairty)\n",
    "\n",
    "print(time.time() - start)        \n",
    "\n",
    "#save the similarity results                \n",
    "with open('most_similar_neighbors.pickle', 'wb') as file:\n",
    "    pickle.dump(most_similar_neighbors, file)    "
   ]
  },
  {
   "cell_type": "markdown",
   "metadata": {},
   "source": [
    "# Make prediction on train and test data"
   ]
  },
  {
   "cell_type": "code",
   "execution_count": 390,
   "metadata": {},
   "outputs": [],
   "source": [
    "with open('most_similar_neighbors.pickle', 'rb') as file:\n",
    "    most_similar_neighbors = pickle.load(file)\n",
    "\n",
    "def predict(userid, movieid):\n",
    "    \n",
    "    avg_rating = averages[userid]\n",
    "    numerator = 0\n",
    "    denominator = 0\n",
    "    for neighbor, sim in  most_similar_neighbors[userid]:\n",
    "        try:\n",
    "            numerator += sim*deviations[neighbor][movieid]\n",
    "            denominator += abs(sim)\n",
    "        except KeyError: # ignore the error when nighbor did not rate this movie\n",
    "            pass\n",
    "            \n",
    "    if denominator == 0: #if no nighbor rated this movie\n",
    "        prediction = avg_rating\n",
    "    else:\n",
    "        prediction = numerator / denominator + avg_rating\n",
    "        prediction = min(5, prediction) # max rating is 5\n",
    "        prediction = max(0.5, prediction) # min rating is 0.5\n",
    "    return prediction\n",
    "\n",
    "train_predictions = []\n",
    "train_actual_ratings = []\n",
    "\n",
    "#predict training set\n",
    "for (i, m), target in user_movie_rating_dic.items():\n",
    "  # calculate the prediction for this movie\n",
    "    prediction = predict(i, m)\n",
    "\n",
    "    train_predictions.append(prediction)\n",
    "    train_actual_ratings.append(target)\n",
    "\n",
    "test_predictions = []\n",
    "test_actual_ratings = []\n",
    "# predict test set\n",
    "for (i, m), target in test_user_movie_rating_dic.items():\n",
    "  # calculate the prediction for this movie\n",
    "    prediction = predict(i, m)\n",
    "\n",
    "    test_predictions.append(prediction)\n",
    "    test_actual_ratings.append(target)\n"
   ]
  },
  {
   "cell_type": "markdown",
   "metadata": {},
   "source": [
    "# Calculate MSE results"
   ]
  },
  {
   "cell_type": "code",
   "execution_count": 399,
   "metadata": {},
   "outputs": [
    {
     "name": "stdout",
     "output_type": "stream",
     "text": [
      "train mse: 0.5199268299247752\n",
      "test mse: 0.6469388871385485\n"
     ]
    }
   ],
   "source": [
    "def mse(actual_ratings, predictions):\n",
    "    actual = np.array(actual_ratings)\n",
    "    predict = np.array(predictions)\n",
    "    return np.mean((actual-predict)**2)\n",
    "    \n",
    "    \n",
    "print('train mse:', mse(train_actual_ratings, train_predictions))\n",
    "print('test mse:', mse(test_actual_ratings, test_predictions))"
   ]
  }
 ],
 "metadata": {
  "kernelspec": {
   "display_name": "Python 3",
   "language": "python",
   "name": "python3"
  },
  "language_info": {
   "codemirror_mode": {
    "name": "ipython",
    "version": 3
   },
   "file_extension": ".py",
   "mimetype": "text/x-python",
   "name": "python",
   "nbconvert_exporter": "python",
   "pygments_lexer": "ipython3",
   "version": "3.7.4"
  }
 },
 "nbformat": 4,
 "nbformat_minor": 4
}
